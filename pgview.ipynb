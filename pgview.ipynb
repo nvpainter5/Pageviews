{
 "cells": [
  {
   "cell_type": "code",
   "execution_count": 2,
   "metadata": {},
   "outputs": [
    {
     "name": "stdout",
     "output_type": "stream",
     "text": [
      "Nirav 05/30/2020\n"
     ]
    }
   ],
   "source": [
    "print('Nirav 05/30/2020')"
   ]
  },
  {
   "cell_type": "code",
   "execution_count": 306,
   "metadata": {},
   "outputs": [
    {
     "name": "stdout",
     "output_type": "stream",
     "text": [
      "['week 1', 'week 2', 'week 3', 'week 4', 'week 5']\n",
      "[2215, 4497, 4195, 3583, 3321]\n",
      "['red', 'blue', 'brown', 'green', 'black']\n"
     ]
    },
    {
     "data": {
      "image/png": "[encoded data removed]",
      "text/plain": [
       "<Figure size 432x288 with 1 Axes>"
      ]
     },
     "metadata": {
      "needs_background": "light"
     },
     "output_type": "display_data"
    }
   ],
   "source": [
    "import pandas as pd\n",
    "import os\n",
    "import datetime\n",
    "import numpy as np\n",
    "import matplotlib.pyplot as plt\n",
    "\n",
    "page_view = pd.read_csv('~/Desktop/pageviews.csv')\n",
    "pv = page_view\n",
    "start = pv.iloc[0,0]\n",
    "end = pv.iloc[-2,0]\n",
    "weekly = pd.date_range(start= start, end= end, freq= 'W')\n",
    "dates = pd.to_datetime(pd.Series(weekly), format = '%m/%d/%y')\n",
    "\n",
    "\n",
    "first_week_start_date = datetime.datetime.strptime(start, '%m/%d/%y')\n",
    "first_week_end_date = first_week_start_date + datetime.timedelta(days=4)\n",
    "weekly_dates = [(first_week_start_date.date(), first_week_end_date.date())]\n",
    "total_pageviews_by_week = {(first_week_start_date.date(), first_week_end_date.date()): 0}\n",
    "for d in dates:\n",
    "    end_date = d + datetime.timedelta(days=6)\n",
    "    weekly_dates.append((d.date(), end_date.date()))\n",
    "    total_pageviews_by_week[(d.date(), end_date.date())] = 0\n",
    "# di = dates.apply(lambda x: x.strftime('%-m/%-d/%y')) \n",
    "\n",
    "\n",
    "for index, row in pv.iterrows():\n",
    "    if isinstance(row['Day Index'], str):\n",
    "        date = datetime.datetime.strptime(row['Day Index'], '%m/%d/%y').date()\n",
    "        for key, value in total_pageviews_by_week.items():\n",
    "            if date >= key[0] and date <= key[1]:\n",
    "                total_pageviews_by_week[key] = value + int(row['Pageviews'])\n",
    "#print(total_pageviews_by_week)\n",
    "weeks = []\n",
    "which_week = 0\n",
    "for w in (list(total_pageviews_by_week.keys())):\n",
    "    which_week += 1\n",
    "    weeks.append('week ' + str(which_week))\n",
    "dat= weeks\n",
    "val= (list(total_pageviews_by_week.values()))\n",
    "print(dat)\n",
    "print(val)\n",
    "\n",
    "col = {dat[0]: 'red',dat[1]: 'blue',dat[2]: 'brown',dat[3]: 'green',dat[4]: 'black'}\n",
    "\n",
    "colo = list(col.values())\n",
    "print (colo)\n",
    "\n",
    "plt.scatter(x= dat,y= val, c= colo)\n",
    "plt.xlabel('Weeks Intervals')\n",
    "plt.ylabel('Pageviews')\n",
    "plt.title('Pageviews by week - Jan 2019')\n",
    "plt.show()"
   ]
  },
  {
   "cell_type": "code",
   "execution_count": null,
   "metadata": {},
   "outputs": [],
   "source": []
  },
  {
   "cell_type": "code",
   "execution_count": null,
   "metadata": {},
   "outputs": [],
   "source": []
  },
  {
   "cell_type": "code",
   "execution_count": null,
   "metadata": {},
   "outputs": [],
   "source": []
  }
 ],
 "metadata": {
  "kernelspec": {
   "display_name": "Python 3",
   "language": "python",
   "name": "python3"
  },
  "language_info": {
   "codemirror_mode": {
    "name": "ipython",
    "version": 3
   },
   "file_extension": ".py",
   "mimetype": "text/x-python",
   "name": "python",
   "nbconvert_exporter": "python",
   "pygments_lexer": "ipython3",
   "version": "3.7.6"
  }
 },
 "nbformat": 4,
 "nbformat_minor": 4
}
